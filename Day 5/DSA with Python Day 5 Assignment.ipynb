{
 "cells": [
  {
   "cell_type": "code",
   "execution_count": 13,
   "metadata": {},
   "outputs": [
    {
     "name": "stdout",
     "output_type": "stream",
     "text": [
      "Sorted array is:\n",
      "a\n",
      "d\n",
      "e\n",
      "e\n",
      "g\n",
      "l\n",
      "p\n",
      "r\n",
      "s\n",
      "t\n",
      "u\n"
     ]
    }
   ],
   "source": [
    "def bubbleSort(ar):\n",
    "   n = len(ar)\n",
    "   for i in range(n):\n",
    "        for j in range(0, n-i-1):\n",
    "            if ar[j] > ar[j+1] :\n",
    "                ar[j], ar[j+1] = ar[j+1], ar[j]\n",
    "ar = ['l', 'e', 't', 's', 'u', 'p', 'g', 'r', 'a', 'd', 'e']\n",
    "bubbleSort(ar)\n",
    "print (\"Sorted array is:\")\n",
    "for i in range(len(ar)):\n",
    "   print(ar[i])"
   ]
  },
  {
   "cell_type": "code",
   "execution_count": 14,
   "metadata": {},
   "outputs": [
    {
     "name": "stdout",
     "output_type": "stream",
     "text": [
      "d\n",
      "e\n",
      "a\n",
      "g\n",
      "e\n",
      "l\n",
      "r\n",
      "p\n",
      "s\n",
      "t\n",
      "u\n"
     ]
    }
   ],
   "source": [
    "A = ['l', 'e', 't', 's', 'u', 'p', 'g', 'r', 'a', 'd', 'e']\n",
    "for i in range(len(A)):\n",
    "    min_= i\n",
    "    for j in range(i+1, len(A)):\n",
    "        if A[min_] > A[j]:\n",
    "            min_ = j\n",
    "            A[i], A[min_] = A[min_], A[i]\n",
    "for i in range(len(A)):\n",
    "    print(A[i])"
   ]
  },
  {
   "cell_type": "code",
   "execution_count": 15,
   "metadata": {},
   "outputs": [
    {
     "name": "stdout",
     "output_type": "stream",
     "text": [
      "The sorted array is:\n",
      "a\n",
      "d\n",
      "e\n",
      "e\n",
      "g\n",
      "l\n",
      "p\n",
      "r\n",
      "s\n",
      "t\n",
      "u\n"
     ]
    }
   ],
   "source": [
    "def insertionSort(arr):\n",
    "    for i in range(1, len(arr)):\n",
    "        key = arr[i]\n",
    "        j = i-1\n",
    "        while j >=0 and key < arr[j] :\n",
    "            arr[j+1] = arr[j]\n",
    "            j -= 1\n",
    "            arr[j+1] = key\n",
    "arr = ['l', 'e', 't', 's', 'u', 'p', 'g', 'r', 'a', 'd', 'e']\n",
    "insertionSort(arr)\n",
    "print (\"The sorted array is:\")\n",
    "for i in range(len(arr)):\n",
    "    print (arr[i])"
   ]
  }
 ],
 "metadata": {
  "kernelspec": {
   "display_name": "Python 3",
   "language": "python",
   "name": "python3"
  },
  "language_info": {
   "codemirror_mode": {
    "name": "ipython",
    "version": 3
   },
   "file_extension": ".py",
   "mimetype": "text/x-python",
   "name": "python",
   "nbconvert_exporter": "python",
   "pygments_lexer": "ipython3",
   "version": "3.8.5"
  }
 },
 "nbformat": 4,
 "nbformat_minor": 4
}
