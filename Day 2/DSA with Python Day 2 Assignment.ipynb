{
 "cells": [
  {
   "cell_type": "markdown",
   "metadata": {},
   "source": [
    "O(N+1) time, O(M) space"
   ]
  },
  {
   "cell_type": "markdown",
   "metadata": {},
   "source": [
    "b) X will be a better choice for all inputs except possibly small inputs\n",
    "\n",
    "Reason - In asymptotic analysis we consider growth of algorithm in terms of input size. \n",
    "An algorithm X is said to be asymptotically better than Y if X takes smaller time than y \n",
    "for all input sizes n larger than a value n0 where n0 > 0."
   ]
  },
  {
   "cell_type": "code",
   "execution_count": 15,
   "metadata": {},
   "outputs": [
    {
     "name": "stdout",
     "output_type": "stream",
     "text": [
      "Even numbers :  [12, 6, 144, 2, 10]\n"
     ]
    }
   ],
   "source": [
    "list = [12, 3, 55, 6, 144, 2, 10, 9, 37]\n",
    "even_num = [num for num in list if num % 2 == 0]\n",
    "print(\"Even numbers : \", even_num)"
   ]
  }
 ],
 "metadata": {
  "kernelspec": {
   "display_name": "Python 3",
   "language": "python",
   "name": "python3"
  },
  "language_info": {
   "codemirror_mode": {
    "name": "ipython",
    "version": 3
   },
   "file_extension": ".py",
   "mimetype": "text/x-python",
   "name": "python",
   "nbconvert_exporter": "python",
   "pygments_lexer": "ipython3",
   "version": "3.8.5"
  }
 },
 "nbformat": 4,
 "nbformat_minor": 4
}
