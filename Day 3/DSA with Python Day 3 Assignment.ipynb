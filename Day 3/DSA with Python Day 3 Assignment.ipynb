{
 "cells": [
  {
   "cell_type": "code",
   "execution_count": 5,
   "metadata": {},
   "outputs": [
    {
     "name": "stdout",
     "output_type": "stream",
     "text": [
      "[2, 4, 8, 10, 11, 13, 15, 17, 19]\n"
     ]
    }
   ],
   "source": [
    "list=[2, 4, 6, 8, 10, 11, 13, 15, 17, 19]\n",
    "del list[2]\n",
    "print(list)"
   ]
  },
  {
   "cell_type": "markdown",
   "metadata": {},
   "source": [
    "Constructors are generally used for instantiating an object.\n",
    "The task of constructors is to initialize (assign values) to the data members of the class when an object of class is created.\n",
    "In Python the __init__() method is called the constructor and is always called when an object is created.\n",
    "\n",
    "Types of constructors :\n",
    "\n",
    "default constructor :The default constructor is simple constructor which doesn’t accept any arguments.It’s definition has only one argument which is a reference to the instance being constructed.\n",
    "\n",
    "parameterized constructor :constructor with parameters is known as parameterized constructor.The parameterized constructor take its first argument as a reference to the instance being constructed known as self and the rest of the arguments are provided by the programmer."
   ]
  }
 ],
 "metadata": {
  "kernelspec": {
   "display_name": "Python 3",
   "language": "python",
   "name": "python3"
  },
  "language_info": {
   "codemirror_mode": {
    "name": "ipython",
    "version": 3
   },
   "file_extension": ".py",
   "mimetype": "text/x-python",
   "name": "python",
   "nbconvert_exporter": "python",
   "pygments_lexer": "ipython3",
   "version": "3.8.5"
  }
 },
 "nbformat": 4,
 "nbformat_minor": 4
}
