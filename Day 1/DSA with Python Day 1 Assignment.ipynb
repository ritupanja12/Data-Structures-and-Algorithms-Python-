{
 "cells": [
  {
   "cell_type": "code",
   "execution_count": 31,
   "metadata": {},
   "outputs": [
    {
     "name": "stdout",
     "output_type": "stream",
     "text": [
      "Enter the First Number : 6\n",
      "Enter the Second Number : 2\n",
      "Addition : 8\n",
      "Subtraction : 4\n",
      "Multiplication : 12\n",
      "Division : 3.0\n"
     ]
    }
   ],
   "source": [
    "a=int(input('Enter the First Number : '))\n",
    "b=int(input('Enter the Second Number : '))\n",
    "A=a+b;\n",
    "S=a-b;\n",
    "M=a*b;\n",
    "D=a/b;\n",
    "print('Addition :', A)\n",
    "print('Subtraction :', S)\n",
    "print('Multiplication :', M)\n",
    "print('Division :', D)"
   ]
  },
  {
   "cell_type": "code",
   "execution_count": 32,
   "metadata": {},
   "outputs": [
    {
     "name": "stdout",
     "output_type": "stream",
     "text": [
      "Enter the Base Number : 7\n",
      "Enter the Exponential Number :4\n",
      "The Exponential Value is :  2401\n"
     ]
    }
   ],
   "source": [
    "x=int(input('Enter the Base Number : '))\n",
    "y=int(input('Enter the Exponential Number :'))\n",
    "z=x**y;\n",
    "print('The Exponential Value is : ', z)"
   ]
  }
 ],
 "metadata": {
  "kernelspec": {
   "display_name": "Python 3",
   "language": "python",
   "name": "python3"
  },
  "language_info": {
   "codemirror_mode": {
    "name": "ipython",
    "version": 3
   },
   "file_extension": ".py",
   "mimetype": "text/x-python",
   "name": "python",
   "nbconvert_exporter": "python",
   "pygments_lexer": "ipython3",
   "version": "3.8.5"
  }
 },
 "nbformat": 4,
 "nbformat_minor": 4
}
